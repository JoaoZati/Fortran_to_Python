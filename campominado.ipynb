{
 "cells": [
  {
   "cell_type": "markdown",
   "metadata": {},
   "source": [
    "Segue um programa que utiliza a ideia do campo minado. \n",
    "\n",
    "Utiliza-se como imput uma matriz(lista) de duas dimensões contendo apenas 0 e -1. Sendo o -1 a representação da bomba.\n",
    "\n",
    "O output gerado será uma matriz(lista) que para todos os valores igual a -1 ela troca para uma string 'Booommm' e os outros valores são a soma de todas as bombas que estão ao seu lado, em cima ou abaixo da célula."
   ]
  },
  {
   "cell_type": "code",
   "execution_count": 1,
   "metadata": {},
   "outputs": [],
   "source": [
    "Matrix = [[-1,0,-1],[0,0,0],[0,-1,0]]\n",
    "MatrixB = [[-1,0,0,-1],[-1,-1,0,0],[0,0,0,-1],[0,-1,-1,0]]"
   ]
  },
  {
   "cell_type": "markdown",
   "metadata": {},
   "source": [
    "Acima temos alguns exemplos de imput"
   ]
  },
  {
   "cell_type": "code",
   "execution_count": 2,
   "metadata": {},
   "outputs": [],
   "source": [
    "def condicao_de_contorno(MA):\n",
    "    MB = []\n",
    "    \n",
    "    for i in range(len(MA) + 2):\n",
    "        MB.append([])\n",
    "    \n",
    "        for j in range(len(MA) + 2):\n",
    "            MB[i].append(0)\n",
    "\n",
    "    return MB      "
   ]
  },
  {
   "cell_type": "markdown",
   "metadata": {},
   "source": [
    "A condição de contorno cria uma lista com dois termos a mais que a lista anterior. Tanto em i como em j. Ou seja na matriz 3x3 criamos uma 5x5 e na matriz 4x4 criamos uma 6x6. Assim por diante.\n"
   ]
  },
  {
   "cell_type": "code",
   "execution_count": 3,
   "metadata": {},
   "outputs": [
    {
     "name": "stdout",
     "output_type": "stream",
     "text": [
      "[[0, 0, 0, 0, 0], [0, 0, 0, 0, 0], [0, 0, 0, 0, 0], [0, 0, 0, 0, 0], [0, 0, 0, 0, 0]]\n",
      "[[0, 0, 0, 0, 0, 0], [0, 0, 0, 0, 0, 0], [0, 0, 0, 0, 0, 0], [0, 0, 0, 0, 0, 0], [0, 0, 0, 0, 0, 0], [0, 0, 0, 0, 0, 0]]\n"
     ]
    }
   ],
   "source": [
    "print (condicao_de_contorno(Matrix))\n",
    "print (condicao_de_contorno(MatrixB))"
   ]
  },
  {
   "cell_type": "markdown",
   "metadata": {},
   "source": [
    "Após criamos uma matriz alocavel para ser utilizada como o resultado final. Sendo composta apenas por zeros e tendo a mesma dimensão das matrizes anteriores."
   ]
  },
  {
   "cell_type": "code",
   "execution_count": 4,
   "metadata": {},
   "outputs": [],
   "source": [
    "def matriz_alocavel_igual(MA):\n",
    "\n",
    "    MC = []\n",
    "\n",
    "    for i in range(len(MA)):\n",
    "        MC.append([])\n",
    "        for j in range(len(MA[0])):\n",
    "            MC[i].append(0)\n",
    "\n",
    "    return MC"
   ]
  },
  {
   "cell_type": "code",
   "execution_count": 5,
   "metadata": {},
   "outputs": [
    {
     "name": "stdout",
     "output_type": "stream",
     "text": [
      "[[0, 0, 0], [0, 0, 0], [0, 0, 0]]\n",
      "[[0, 0, 0, 0], [0, 0, 0, 0], [0, 0, 0, 0], [0, 0, 0, 0]]\n"
     ]
    }
   ],
   "source": [
    "print (matriz_alocavel_igual(Matrix))\n",
    "print (matriz_alocavel_igual(MatrixB))"
   ]
  },
  {
   "cell_type": "markdown",
   "metadata": {},
   "source": [
    "Somamos agora o valor das matrizes originais nas matrizes de condição de contorno.\n"
   ]
  },
  {
   "cell_type": "code",
   "execution_count": 8,
   "metadata": {},
   "outputs": [],
   "source": [
    "def matrix_maior(MA):\n",
    "    #MB = [[0, 0, 0, 0, 0], [0, 0, 0, 0, 0],\n",
    "    #      [0, 0, 0, 0, 0], [0, 0, 0, 0, 0], [0, 0, 0, 0, 0]]\n",
    "    MB = condicao_de_contorno(MA)\n",
    "\n",
    "    for i in range(len(MA)):\n",
    "        for j in range(len(MA)):\n",
    "            MB[i+1][j+1] = MA[i][j]                           \n",
    "    \n",
    "    return MB\n"
   ]
  },
  {
   "cell_type": "code",
   "execution_count": 10,
   "metadata": {},
   "outputs": [
    {
     "name": "stdout",
     "output_type": "stream",
     "text": [
      "[[0, 0, 0, 0, 0], [0, -1, 0, -1, 0], [0, 0, 0, 0, 0], [0, 0, -1, 0, 0], [0, 0, 0, 0, 0]]\n",
      "[[0, 0, 0, 0, 0, 0], [0, -1, 0, 0, -1, 0], [0, -1, -1, 0, 0, 0], [0, 0, 0, 0, -1, 0], [0, 0, -1, -1, 0, 0], [0, 0, 0, 0, 0, 0]]\n"
     ]
    }
   ],
   "source": [
    "print (matrix_maior(Matrix))\n",
    "print (matrix_maior(MatrixB))"
   ]
  },
  {
   "cell_type": "markdown",
   "metadata": {},
   "source": [
    "Criamos essa matriz para não termos problemas com somas de valores no canto. como MC[0][0]. "
   ]
  },
  {
   "cell_type": "code",
   "execution_count": 11,
   "metadata": {},
   "outputs": [],
   "source": [
    "def campo_minado(MA):\n",
    "    MB = matrix_maior(MA)\n",
    "    MC = matriz_alocavel_igual(MA)\n",
    "\n",
    "    for i in range(len(MC)):\n",
    "        for j in range(len(MC[0])):\n",
    "            #MC[i-1][j-1] = MB[i-1][j] + MB[i+1][j] + MB[i][j-1] + MB[i][j+1]\n",
    "            MC[i][j] = MB[i][j+1] + MB[i+2][j+1] + MB[i+1][j] + MB[i+1][j+2]\n",
    "\n",
    "    for i in range(len(MC)):\n",
    "        for j in range(len(MC[0])):\n",
    "            if MB[i+1][j+1] == -1:\n",
    "                MC[i][j] = 'Booommm'\n",
    "\n",
    "    return MC"
   ]
  },
  {
   "cell_type": "markdown",
   "metadata": {},
   "source": [
    "Acima segue o procedimento principal, primeiro ele soma todos os valores adjacentes das células da matriz da matriz maior gerada e igualando esse valores a MC. Ou seja a soma do lado esquerdo com o lado direito com a parte superior e inferior. Note que a posição de MB é igual MA somando um termo, ou seja, MB[1][1] é igual a MA[0][0], MB[1][0] é igual a MA[2][1], assim por diante, não tendo problemas na soma de valores como MA[0][0], pois estes são dados por MB[1][1] e tem valores como MB[0][1] para utilizarmos como soma.  "
   ]
  },
  {
   "cell_type": "markdown",
   "metadata": {},
   "source": [
    "Depois de somados os valores substituimos todos os valores de MC por 'Booommm' se sua posição de célula for igual a alguma célula que contenha -1 em MA."
   ]
  },
  {
   "cell_type": "code",
   "execution_count": 13,
   "metadata": {},
   "outputs": [
    {
     "name": "stdout",
     "output_type": "stream",
     "text": [
      "[[-1, 0, -1], [0, 0, 0], [0, -1, 0]]\n",
      "[[-1, 0, 0, -1], [-1, -1, 0, 0], [0, 0, 0, -1], [0, -1, -1, 0]]\n",
      "[['Booommm', -2, 'Booommm'], [-1, -1, -1], [-1, 'Booommm', -1]]\n",
      "[['Booommm', -2, -1, 'Booommm'], ['Booommm', 'Booommm', -1, -2], [-1, -2, -2, 'Booommm'], [-1, 'Booommm', 'Booommm', -2]]\n"
     ]
    }
   ],
   "source": [
    "print(Matrix)\n",
    "print(MatrixB)\n",
    "print(campo_minado(Matrix))\n",
    "print(campo_minado(MatrixB))"
   ]
  },
  {
   "cell_type": "markdown",
   "metadata": {},
   "source": [
    "O Resultado final esperado =). "
   ]
  },
  {
   "cell_type": "markdown",
   "metadata": {},
   "source": [
    "Utilize com qualquer matriz que sejejar, apenas tome cuidado não fiz programação defensiva. A matriz necessita ser quadrática e em duas dimensões apenas e as matrizes necessitam ser compostas apenas por 0 e -1, caso contrário o resultado sera apenas uma soma. "
   ]
  },
  {
   "cell_type": "markdown",
   "metadata": {},
   "source": [
    "Nota-se que esse programa não é o jogo completo, longe disso, mas é um ótimo exercício para interpretar a utilização das listas como modo de manipular matrizes. Sabendo esse programa, soma, multiplicação e soma de diagonal principal de matrizes vai paracer brincadeira =). "
   ]
  },
  {
   "cell_type": "code",
   "execution_count": null,
   "metadata": {},
   "outputs": [],
   "source": [
    "Muito obrigado por acompanhar meu código."
   ]
  }
 ],
 "metadata": {
  "kernelspec": {
   "display_name": "Python 3",
   "language": "python",
   "name": "python3"
  },
  "language_info": {
   "codemirror_mode": {
    "name": "ipython",
    "version": 3
   },
   "file_extension": ".py",
   "mimetype": "text/x-python",
   "name": "python",
   "nbconvert_exporter": "python",
   "pygments_lexer": "ipython3",
   "version": "3.6.4"
  }
 },
 "nbformat": 4,
 "nbformat_minor": 2
}
